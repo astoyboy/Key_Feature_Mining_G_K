{
 "cells": [
  {
   "cell_type": "code",
   "execution_count": 1,
   "metadata": {},
   "outputs": [],
   "source": [
    "import re\n",
    "import os\n",
    "import numpy as np\n",
    "import pandas as pd\n",
    "import warnings\n",
    "from pymatgen.core import Structure\n",
    "from automatminer import AutoFeaturizer\n",
    "\n",
    "warnings.filterwarnings('ignore')"
   ]
  },
  {
   "cell_type": "code",
   "execution_count": null,
   "metadata": {},
   "outputs": [],
   "source": [
    "data_form = pd.read_csv(\"../data\") \n",
    "data_form.head()"
   ]
  },
  {
   "cell_type": "code",
   "execution_count": 6,
   "metadata": {},
   "outputs": [],
   "source": [
    "cif_dir = './cifs/cifs/'\n",
    "cif_files= os.listdir(cif_dir)\n",
    "c=[]\n",
    "for f in cif_files:\n",
    "    if f.endswith(\".cif\"):\n",
    "        f = re.sub(\"\\D\", \"\", f)\n",
    "        c.append(f)\n",
    "c_1 = sorted(list(map(int, c)))\n",
    "new_cif_files = [(str(i)+'.cif') for i in c_1]\n",
    "cif_paths = [os.path.join(cif_dir, cif) for cif in new_cif_files]\n",
    "\n",
    "structures = [Structure.from_file(cif) for cif in cif_paths]\n",
    "structure_df = pd.DataFrame({\"structure\": structures})\n",
    "\n",
    "structure_df.head()"
   ]
  },
  {
   "cell_type": "code",
   "execution_count": null,
   "metadata": {},
   "outputs": [],
   "source": [
    "data_form['structure'] = structure_df\n",
    "data = data_form\n",
    "data.head()"
   ]
  },
  {
   "cell_type": "code",
   "execution_count": null,
   "metadata": {},
   "outputs": [],
   "source": [
    "df = data.loc[:, ['structure', 'target']]\n",
    "df.head()"
   ]
  },
  {
   "cell_type": "code",
   "execution_count": null,
   "metadata": {},
   "outputs": [],
   "source": [
    "featurizer = AutoFeaturizer(preset=\"express\")\n",
    "\n",
    "featurizer.fit(df, target=\"target\")\n",
    "\n",
    "featurizer_df = featurizer.transform(df, target=\"target\")"
   ]
  },
  {
   "cell_type": "code",
   "execution_count": null,
   "metadata": {},
   "outputs": [],
   "source": [
    "featurizer_df.head()"
   ]
  },
  {
   "cell_type": "code",
   "execution_count": null,
   "metadata": {},
   "outputs": [],
   "source": [
    "df = featurizer_df.drop(['compound possible', 'is_centrosymmetric'], axis=1)\n",
    "df"
   ]
  },
  {
   "cell_type": "code",
   "execution_count": 28,
   "metadata": {},
   "outputs": [],
   "source": [
    "df['crystal_system'] = df['crystal_system'].map({\n",
    "    'hexagonal' : 2, \n",
    "    'cubic' : 1, \n",
    "    'trigonal' : 7, \n",
    "    'tetragonal' : 4, \n",
    "    'orthorhombic' : 5, \n",
    "    'triclinic' : 3, \n",
    "    'monoclinic' : 6\n",
    "}).astype(int)"
   ]
  },
  {
   "cell_type": "code",
   "execution_count": 30,
   "metadata": {},
   "outputs": [],
   "source": [
    "df.to_csv('FP.csv', index=False)"
   ]
  },
  {
   "cell_type": "code",
   "execution_count": null,
   "metadata": {},
   "outputs": [],
   "source": []
  }
 ],
 "metadata": {
  "kernelspec": {
   "display_name": "automatm",
   "language": "python",
   "name": "python3"
  },
  "language_info": {
   "codemirror_mode": {
    "name": "ipython",
    "version": 3
   },
   "file_extension": ".py",
   "mimetype": "text/x-python",
   "name": "python",
   "nbconvert_exporter": "python",
   "pygments_lexer": "ipython3",
   "version": "3.7.16"
  },
  "toc": {
   "base_numbering": 1,
   "nav_menu": {},
   "number_sections": true,
   "sideBar": true,
   "skip_h1_title": false,
   "title_cell": "Table of Contents",
   "title_sidebar": "Contents",
   "toc_cell": false,
   "toc_position": {},
   "toc_section_display": true,
   "toc_window_display": false
  }
 },
 "nbformat": 4,
 "nbformat_minor": 4
}
