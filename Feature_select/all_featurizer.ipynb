{
 "cells": [
  {
   "cell_type": "code",
   "execution_count": 1,
   "id": "8a87bac9",
   "metadata": {},
   "outputs": [],
   "source": [
    "import pandas as pd\n",
    "import os\n",
    "import re\n",
    "from pymatgen.core import Structure\n",
    "\n",
    "import warnings\n",
    "warnings.filterwarnings('ignore')"
   ]
  },
  {
   "cell_type": "code",
   "execution_count": null,
   "id": "0cab4526",
   "metadata": {},
   "outputs": [],
   "source": [
    "data_form = pd.read_csv(\"../data\") \n",
    "data_form.head()"
   ]
  },
  {
   "cell_type": "code",
   "execution_count": 9,
   "id": "c2680263",
   "metadata": {},
   "outputs": [],
   "source": [
    "cif_dir = './cifs/cifs'\n",
    "cif_files= os.listdir(cif_dir)\n",
    "\n",
    "c=[]\n",
    "for f in cif_files:\n",
    "    if f.endswith(\".cif\"):\n",
    "   \n",
    "        f = re.sub(\"\\D\", \"\", f)\n",
    "        c.append(f)\n",
    "c_1 = sorted(list(map(int, c)))\n",
    "new_cif_files = [(str(i)+'.cif') for i in c_1]\n",
    "cif_paths = [os.path.join(cif_dir, cif) for cif in new_cif_files]\n",
    "\n",
    "structures = [Structure.from_file(cif) for cif in cif_paths]\n",
    "structure_df = pd.DataFrame({\"structure\": structures})\n",
    "structure_df.head()"
   ]
  },
  {
   "cell_type": "code",
   "execution_count": null,
   "id": "e13e9776",
   "metadata": {},
   "outputs": [],
   "source": [
    "data = data_form.join(structure_df['structure'])\n",
    "data.head()"
   ]
  },
  {
   "cell_type": "code",
   "execution_count": null,
   "id": "cfe02760",
   "metadata": {},
   "outputs": [],
   "source": [
    "from modnet.preprocessing import MODData\n",
    "md = MODData(materials=data['structure'],\n",
    "            targets=data[\"target\"],\n",
    "            structure_ids=data.index, \n",
    "            target_names=[\"target\"])"
   ]
  },
  {
   "cell_type": "code",
   "execution_count": null,
   "id": "acfb2fe7",
   "metadata": {},
   "outputs": [],
   "source": [
    "md.featurize(n_jobs=-1)"
   ]
  },
  {
   "cell_type": "code",
   "execution_count": null,
   "id": "742aceec",
   "metadata": {},
   "outputs": [],
   "source": [
    "df = md.get_featurized_df()\n",
    "df"
   ]
  },
  {
   "cell_type": "code",
   "execution_count": 17,
   "id": "611e4441",
   "metadata": {},
   "outputs": [],
   "source": [
    "df.to_csv(\"all.csv\", index=False)"
   ]
  },
  {
   "cell_type": "code",
   "execution_count": null,
   "id": "9225be8e",
   "metadata": {},
   "outputs": [],
   "source": []
  }
 ],
 "metadata": {
  "kernelspec": {
   "display_name": "modnet",
   "language": "python",
   "name": "python3"
  },
  "language_info": {
   "codemirror_mode": {
    "name": "ipython",
    "version": 3
   },
   "file_extension": ".py",
   "mimetype": "text/x-python",
   "name": "python",
   "nbconvert_exporter": "python",
   "pygments_lexer": "ipython3",
   "version": "3.10.16"
  },
  "toc": {
   "base_numbering": 1,
   "nav_menu": {},
   "number_sections": true,
   "sideBar": true,
   "skip_h1_title": false,
   "title_cell": "Table of Contents",
   "title_sidebar": "Contents",
   "toc_cell": false,
   "toc_position": {},
   "toc_section_display": true,
   "toc_window_display": false
  }
 },
 "nbformat": 4,
 "nbformat_minor": 5
}
