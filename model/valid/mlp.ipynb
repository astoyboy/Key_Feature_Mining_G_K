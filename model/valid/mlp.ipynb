{
 "cells": [
  {
   "cell_type": "code",
   "execution_count": 1,
   "id": "680fa955",
   "metadata": {},
   "outputs": [],
   "source": [
    "import numpy as np\n",
    "import pandas as pd\n",
    "\n",
    "from sklearn.model_selection import train_test_split\n",
    "from sklearn.impute import SimpleImputer\n",
    "from sklearn.preprocessing import StandardScaler\n",
    "\n",
    "from sklearn.pipeline import Pipeline\n",
    "from sklearn.neural_network import MLPRegressor\n",
    "\n",
    "from sklearn.metrics import mean_absolute_error\n",
    "from sklearn.metrics import mean_squared_error\n",
    "from sklearn.model_selection import KFold\n",
    "from sklearn.metrics import mean_absolute_error, mean_squared_error\n",
    "\n",
    "\n",
    "import warnings\n",
    "warnings.filterwarnings('ignore')"
   ]
  },
  {
   "cell_type": "markdown",
   "id": "6cbbe47e",
   "metadata": {},
   "source": [
    "#### ALL 4435"
   ]
  },
  {
   "cell_type": "code",
   "execution_count": null,
   "id": "5037d81c",
   "metadata": {},
   "outputs": [],
   "source": [
    "df1 = pd.read_csv('../../../data/all/G_all_4435.csv')\n",
    "# df1 = pd.read_csv('../../../data/all/B_all_4435.csv')\n",
    "df1"
   ]
  },
  {
   "cell_type": "code",
   "execution_count": 3,
   "id": "ead96e09",
   "metadata": {},
   "outputs": [],
   "source": [
    "data_set = df1.drop('material_id', axis=1)\n",
    "X = data_set.drop('GVRH',axis=1)\n",
    "y = data_set['GVRH']"
   ]
  },
  {
   "cell_type": "code",
   "execution_count": null,
   "id": "82a79868",
   "metadata": {},
   "outputs": [],
   "source": [
    "\n",
    "mlp_params = {'hidden_layer_sizes':(128,64,32), 'activation':'tanh', 'solver':'sgd', 'max_iter':3000}\n",
    "mlp_pipeline = Pipeline([\n",
    "    ('imputer', SimpleImputer(missing_values=np.nan, strategy='mean')),\n",
    "    ('scaler', StandardScaler(copy = True, with_mean = True, with_std = True)),\n",
    "    ('ann', MLPRegressor(**mlp_params)\n",
    "    )\n",
    "])\n",
    "kf = KFold(n_splits=10, shuffle=True, random_state=99)\n",
    "\n",
    "scores = []\n",
    "mae_scores = []\n",
    "rmse_scores = []\n",
    "\n",
    "for fold, (train_index, test_index) in enumerate(kf.split(X)):\n",
    "    X_train, X_test = X.iloc[train_index], X.iloc[test_index]\n",
    "    y_train, y_test = y.iloc[train_index], y.iloc[test_index]\n",
    "    \n",
    "    imputer = SimpleImputer(strategy='median')\n",
    "    X_train = imputer.fit_transform(X_train)\n",
    "    X_test = imputer.transform(X_test)\n",
    "\n",
    "    mlp_pipeline.fit(X_train, y_train)\n",
    "    \n",
    "    y_pred = mlp_pipeline.predict(X_test)\n",
    "    \n",
    "    score = mlp_pipeline.score(X_test, y_test)  \n",
    "    mae = mean_absolute_error(y_test, y_pred)\n",
    "    rmse = float(np.sqrt(mean_squared_error(y_test, y_pred)))\n",
    "    \n",
    "    scores.append(score)\n",
    "    mae_scores.append(mae)\n",
    "    rmse_scores.append(rmse)\n",
    "\n",
    "print(\"R^2 scores:\", scores)\n",
    "print(\"Mean R^2 score:\", sum(scores) / len(scores))\n",
    "print(\"MAE scores:\", mae_scores)\n",
    "print(\"Mean MAE:\", sum(mae_scores) / len(mae_scores))\n",
    "print(\"RMSE scores:\", rmse_scores)\n",
    "print(\"Mean RMSE:\", sum(rmse_scores) / len(rmse_scores))\n"
   ]
  },
  {
   "cell_type": "markdown",
   "id": "a4132881",
   "metadata": {},
   "source": [
    "#### FP 34"
   ]
  },
  {
   "cell_type": "code",
   "execution_count": null,
   "id": "36bb00b0",
   "metadata": {},
   "outputs": [],
   "source": [
    "df2 = pd.read_csv('../../../data/FP/G_FP_343.csv')\n",
    "# df2 = pd.read_csv('../../../data/FP/B_FP_343.csv')\n",
    "df2"
   ]
  },
  {
   "cell_type": "code",
   "execution_count": 7,
   "id": "eabc0f3f",
   "metadata": {},
   "outputs": [],
   "source": [
    "data_set = df2.drop('material_id', axis=1)\n",
    "X = data_set.drop('GVRH',axis=1)\n",
    "y = data_set['GVRH']"
   ]
  },
  {
   "cell_type": "code",
   "execution_count": null,
   "id": "e94ed742",
   "metadata": {},
   "outputs": [],
   "source": [
    "mlp_pipeline = Pipeline([\n",
    "    ('imputer', SimpleImputer(missing_values=np.nan, strategy='mean')),\n",
    "    ('scaler', StandardScaler(copy = True, with_mean = True, with_std = True)),\n",
    "    ('ann', MLPRegressor(**mlp_params)\n",
    "    )\n",
    "])\n",
    "kf = KFold(n_splits=10, shuffle=True, random_state=99)\n",
    "\n",
    "scores = []\n",
    "mae_scores = []\n",
    "rmse_scores = []\n",
    "\n",
    "for fold, (train_index, test_index) in enumerate(kf.split(X)):\n",
    "    X_train, X_test = X.iloc[train_index], X.iloc[test_index]\n",
    "    y_train, y_test = y.iloc[train_index], y.iloc[test_index]\n",
    "    \n",
    "    imputer = SimpleImputer(strategy='median')\n",
    "    X_train = imputer.fit_transform(X_train)\n",
    "    X_test = imputer.transform(X_test)\n",
    "\n",
    "    mlp_pipeline.fit(X_train, y_train)\n",
    "    \n",
    "    y_pred = mlp_pipeline.predict(X_test)\n",
    "    \n",
    "    score = mlp_pipeline.score(X_test, y_test)  \n",
    "    mae = mean_absolute_error(y_test, y_pred)\n",
    "    rmse = float(np.sqrt(mean_squared_error(y_test, y_pred)))\n",
    "    \n",
    "    scores.append(score)\n",
    "    mae_scores.append(mae)\n",
    "    rmse_scores.append(rmse)\n",
    "\n",
    "print(\"R^2 scores:\", scores)\n",
    "print(\"Mean R^2 score:\", sum(scores) / len(scores))\n",
    "print(\"MAE scores:\", mae_scores)\n",
    "print(\"Mean MAE:\", sum(mae_scores) / len(mae_scores))\n",
    "print(\"RMSE scores:\", rmse_scores)\n",
    "print(\"Mean RMSE:\", sum(rmse_scores) / len(rmse_scores))\n"
   ]
  },
  {
   "cell_type": "markdown",
   "id": "47c084bd",
   "metadata": {},
   "source": [
    "#### IFS-HC 34"
   ]
  },
  {
   "cell_type": "code",
   "execution_count": null,
   "id": "a13a6342",
   "metadata": {},
   "outputs": [],
   "source": [
    "df3 = pd.read_csv('../../../data/IFS-HC/G_IFS-HC_34.csv')\n",
    "# df3 = pd.read_csv('../../../data/IFS-HC/B_IFS-HC_34.csv')\n",
    "df3"
   ]
  },
  {
   "cell_type": "code",
   "execution_count": null,
   "id": "b26a6f95",
   "metadata": {},
   "outputs": [],
   "source": [
    "X = df3.drop('GVRH',axis=1)\n",
    "y = df3['GVRH']"
   ]
  },
  {
   "cell_type": "code",
   "execution_count": null,
   "id": "784896b8",
   "metadata": {},
   "outputs": [],
   "source": [
    "mlp_pipeline = Pipeline([\n",
    "    ('imputer', SimpleImputer(missing_values=np.nan, strategy='mean')),\n",
    "    ('scaler', StandardScaler(copy = True, with_mean = True, with_std = True)),\n",
    "    ('ann', MLPRegressor(**mlp_params)\n",
    "    )\n",
    "])\n",
    "kf = KFold(n_splits=10, shuffle=True, random_state=99)\n",
    "\n",
    "scores = []\n",
    "mae_scores = []\n",
    "rmse_scores = []\n",
    "\n",
    "for fold, (train_index, test_index) in enumerate(kf.split(X)):\n",
    "    X_train, X_test = X.iloc[train_index], X.iloc[test_index]\n",
    "    y_train, y_test = y.iloc[train_index], y.iloc[test_index]\n",
    "    \n",
    "    imputer = SimpleImputer(strategy='median')\n",
    "    X_train = imputer.fit_transform(X_train)\n",
    "    X_test = imputer.transform(X_test)\n",
    "\n",
    "    mlp_pipeline.fit(X_train, y_train)\n",
    "    \n",
    "    y_pred = mlp_pipeline.predict(X_test)\n",
    "    \n",
    "    score = mlp_pipeline.score(X_test, y_test)  \n",
    "    mae = mean_absolute_error(y_test, y_pred)\n",
    "    rmse = float(np.sqrt(mean_squared_error(y_test, y_pred)))\n",
    "    \n",
    "    scores.append(score)\n",
    "    mae_scores.append(mae)\n",
    "    rmse_scores.append(rmse)\n",
    "\n",
    "print(\"R^2 scores:\", scores)\n",
    "print(\"Mean R^2 score:\", sum(scores) / len(scores))\n",
    "print(\"MAE scores:\", mae_scores)\n",
    "print(\"Mean MAE:\", sum(mae_scores) / len(mae_scores))\n",
    "print(\"RMSE scores:\", rmse_scores)\n",
    "print(\"Mean RMSE:\", sum(rmse_scores) / len(rmse_scores))\n"
   ]
  },
  {
   "cell_type": "code",
   "execution_count": null,
   "id": "9bcdca67",
   "metadata": {},
   "outputs": [],
   "source": []
  }
 ],
 "metadata": {
  "kernelspec": {
   "display_name": "ML",
   "language": "python",
   "name": "python3"
  },
  "language_info": {
   "codemirror_mode": {
    "name": "ipython",
    "version": 3
   },
   "file_extension": ".py",
   "mimetype": "text/x-python",
   "name": "python",
   "nbconvert_exporter": "python",
   "pygments_lexer": "ipython3",
   "version": "3.10.16"
  }
 },
 "nbformat": 4,
 "nbformat_minor": 5
}
