{
 "cells": [
  {
   "cell_type": "code",
   "execution_count": 3,
   "id": "a2f5d016",
   "metadata": {},
   "outputs": [],
   "source": [
    "import numpy as np\n",
    "import pandas as pd\n",
    "\n",
    "from sklearn.model_selection import train_test_split\n",
    "from sklearn.impute import SimpleImputer\n",
    "from sklearn.preprocessing import StandardScaler\n",
    "\n",
    "from sklearn.pipeline import Pipeline\n",
    "from sklearn.svm import SVR\n",
    "\n",
    "from sklearn.metrics import mean_absolute_error\n",
    "from sklearn.metrics import mean_squared_error\n",
    "from sklearn.model_selection import KFold\n",
    "\n",
    "import matplotlib.pyplot as plt\n",
    "\n",
    "import warnings\n",
    "warnings.filterwarnings('ignore')"
   ]
  },
  {
   "cell_type": "code",
   "execution_count": null,
   "id": "cd916053",
   "metadata": {},
   "outputs": [],
   "source": [
    "df1 = pd.read_csv('../../../data/all/G_all_4435.csv')\n",
    "df1"
   ]
  },
  {
   "cell_type": "code",
   "execution_count": 5,
   "id": "52ee0815",
   "metadata": {},
   "outputs": [],
   "source": [
    "data_set = df1.drop('material_id', axis=1)\n",
    "X = data_set.drop('GVRH',axis=1)\n",
    "y = data_set['GVRH']"
   ]
  },
  {
   "cell_type": "code",
   "execution_count": null,
   "id": "52c87f2a",
   "metadata": {},
   "outputs": [],
   "source": [
    "svr_params = {'C': 300, 'epsilon': 0.1, 'gamma': 'scale', 'kernel': 'rbf'}\n",
    "svr_pipeline = Pipeline([\n",
    "    ('imputer', SimpleImputer(missing_values=np.nan, strategy='mean')),\n",
    "    ('scaler', StandardScaler(copy = True, with_mean = True, with_std = True)),\n",
    "    ('svr', SVR(**svr_params)\n",
    "    )\n",
    "])\n",
    "\n",
    "kf = KFold(n_splits=10, shuffle=True, random_state=12)\n",
    "\n",
    "scores = []\n",
    "mae_scores = []\n",
    "rmse_scores = []\n",
    "\n",
    "for fold, (train_index, test_index) in enumerate(kf.split(X)):\n",
    "    X_train, X_test = X.iloc[train_index], X.iloc[test_index]\n",
    "    y_train, y_test = y.iloc[train_index], y.iloc[test_index]\n",
    "    \n",
    "    imputer = SimpleImputer(strategy='median')\n",
    "    X_train = imputer.fit_transform(X_train)\n",
    "    X_test = imputer.transform(X_test)\n",
    "\n",
    "    svr_pipeline.fit(X_train, y_train)\n",
    "    \n",
    "    y_pred = svr_pipeline.predict(X_test)\n",
    "    \n",
    "    score = svr_pipeline.score(X_test, y_test)  \n",
    "    mae = mean_absolute_error(y_test, y_pred)\n",
    "    rmse = float(np.sqrt(mean_squared_error(y_test, y_pred)))\n",
    "    \n",
    "    scores.append(score)\n",
    "    mae_scores.append(mae)\n",
    "    rmse_scores.append(rmse)\n",
    "\n",
    "print(\"R^2 scores:\", scores)\n",
    "print(\"Mean R^2 score:\", sum(scores) / len(scores))\n",
    "print(\"MAE scores:\", mae_scores)\n",
    "print(\"Mean MAE:\", sum(mae_scores) / len(mae_scores))\n",
    "print(\"RMSE scores:\", rmse_scores)\n",
    "print(\"Mean RMSE:\", sum(rmse_scores) / len(rmse_scores))\n"
   ]
  },
  {
   "cell_type": "markdown",
   "id": "8cd653ff",
   "metadata": {},
   "source": [
    "#### FP 343"
   ]
  },
  {
   "cell_type": "code",
   "execution_count": null,
   "id": "7522bba1",
   "metadata": {},
   "outputs": [],
   "source": [
    "df2 = pd.read_csv('../../../data/FP/G_FP_343.csv')\n",
    "df2"
   ]
  },
  {
   "cell_type": "code",
   "execution_count": 9,
   "id": "8f94083c",
   "metadata": {},
   "outputs": [],
   "source": [
    "data_set = df2.drop('material_id', axis=1)\n",
    "X = data_set.drop('GVRH',axis=1)\n",
    "y = data_set['GVRH']"
   ]
  },
  {
   "cell_type": "code",
   "execution_count": null,
   "id": "a998ca86",
   "metadata": {},
   "outputs": [],
   "source": [
    "svr_pipeline = Pipeline([\n",
    "    ('imputer', SimpleImputer(missing_values=np.nan, strategy='mean')),\n",
    "    ('scaler', StandardScaler(copy = True, with_mean = True, with_std = True)),\n",
    "    ('svr', SVR(**svr_params)\n",
    "    )\n",
    "])\n",
    "\n",
    "kf = KFold(n_splits=10, shuffle=True, random_state=12)\n",
    "\n",
    "scores = []\n",
    "mae_scores = []\n",
    "rmse_scores = []\n",
    "\n",
    "for fold, (train_index, test_index) in enumerate(kf.split(X)):\n",
    "    X_train, X_test = X.iloc[train_index], X.iloc[test_index]\n",
    "    y_train, y_test = y.iloc[train_index], y.iloc[test_index]\n",
    "    \n",
    "    imputer = SimpleImputer(strategy='median')\n",
    "    X_train = imputer.fit_transform(X_train)\n",
    "    X_test = imputer.transform(X_test)\n",
    "\n",
    "    svr_pipeline.fit(X_train, y_train)\n",
    "    \n",
    "    y_pred = svr_pipeline.predict(X_test)\n",
    "    \n",
    "    score = svr_pipeline.score(X_test, y_test)  \n",
    "    mae = mean_absolute_error(y_test, y_pred)\n",
    "    rmse = float(np.sqrt(mean_squared_error(y_test, y_pred)))\n",
    "    \n",
    "    scores.append(score)\n",
    "    mae_scores.append(mae)\n",
    "    rmse_scores.append(rmse)\n",
    "\n",
    "print(\"R^2 scores:\", scores)\n",
    "print(\"Mean R^2 score:\", sum(scores) / len(scores))\n",
    "print(\"MAE scores:\", mae_scores)\n",
    "print(\"Mean MAE:\", sum(mae_scores) / len(mae_scores))\n",
    "print(\"RMSE scores:\", rmse_scores)\n",
    "print(\"Mean RMSE:\", sum(rmse_scores) / len(rmse_scores))\n"
   ]
  },
  {
   "cell_type": "markdown",
   "id": "d7b13e53",
   "metadata": {},
   "source": [
    "#### IFS-HC 34"
   ]
  },
  {
   "cell_type": "code",
   "execution_count": null,
   "id": "2859d503",
   "metadata": {},
   "outputs": [],
   "source": [
    "df3 = pd.read_csv('../../../data/IFS-HC/G_IFS-HC_34.csv')\n",
    "df3"
   ]
  },
  {
   "cell_type": "code",
   "execution_count": 13,
   "id": "3873296c",
   "metadata": {},
   "outputs": [],
   "source": [
    "X = df3.drop('GVRH',axis=1)\n",
    "y = df3['GVRH']"
   ]
  },
  {
   "cell_type": "code",
   "execution_count": null,
   "id": "acb994c2",
   "metadata": {},
   "outputs": [],
   "source": [
    "svr_pipeline = Pipeline([\n",
    "    ('imputer', SimpleImputer(missing_values=np.nan, strategy='mean')),\n",
    "    ('scaler', StandardScaler(copy = True, with_mean = True, with_std = True)),\n",
    "    ('svr', SVR(**svr_params)\n",
    "    )\n",
    "])\n",
    "\n",
    "kf = KFold(n_splits=10, shuffle=True, random_state=12)\n",
    "\n",
    "scores = []\n",
    "mae_scores = []\n",
    "rmse_scores = []\n",
    "\n",
    "for fold, (train_index, test_index) in enumerate(kf.split(X)):\n",
    "    X_train, X_test = X.iloc[train_index], X.iloc[test_index]\n",
    "    y_train, y_test = y.iloc[train_index], y.iloc[test_index]\n",
    "    \n",
    "    imputer = SimpleImputer(strategy='median')\n",
    "    X_train = imputer.fit_transform(X_train)\n",
    "    X_test = imputer.transform(X_test)\n",
    "\n",
    "    svr_pipeline.fit(X_train, y_train)\n",
    "    \n",
    "    y_pred = svr_pipeline.predict(X_test)\n",
    "    \n",
    "    score = svr_pipeline.score(X_test, y_test)  \n",
    "    mae = mean_absolute_error(y_test, y_pred)\n",
    "    rmse = float(np.sqrt(mean_squared_error(y_test, y_pred)))\n",
    "    \n",
    "    scores.append(score)\n",
    "    mae_scores.append(mae)\n",
    "    rmse_scores.append(rmse)\n",
    "\n",
    "print(\"R^2 scores:\", scores)\n",
    "print(\"Mean R^2 score:\", sum(scores) / len(scores))\n",
    "print(\"MAE scores:\", mae_scores)\n",
    "print(\"Mean MAE:\", sum(mae_scores) / len(mae_scores))\n",
    "print(\"RMSE scores:\", rmse_scores)\n",
    "print(\"Mean RMSE:\", sum(rmse_scores) / len(rmse_scores))\n"
   ]
  }
 ],
 "metadata": {
  "kernelspec": {
   "display_name": "ML",
   "language": "python",
   "name": "python3"
  },
  "language_info": {
   "codemirror_mode": {
    "name": "ipython",
    "version": 3
   },
   "file_extension": ".py",
   "mimetype": "text/x-python",
   "name": "python",
   "nbconvert_exporter": "python",
   "pygments_lexer": "ipython3",
   "version": "3.10.16"
  }
 },
 "nbformat": 4,
 "nbformat_minor": 5
}
